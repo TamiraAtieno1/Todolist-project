{
 "cells": [
  {
   "cell_type": "code",
   "execution_count": 2,
   "metadata": {},
   "outputs": [],
   "source": [
    "def save_tasks(tasks, filename):\n",
    "    try:\n",
    "        with open(filename, 'w') as file:\n",
    "            for task in tasks:\n",
    "                file.write(f\"{task['name']}, {task['due_date']}\\n\")\n",
    "    except IOError as e:\n",
    "        print(f\"Error: Unable to write to the file '{filename}' -{e}\")\n",
    "\n",
    "tasks = [\n",
    "    {'name':'Complete assignment', 'due_date': '2024-07-25'}\n",
    "]\n",
    "save_tasks(tasks, 'todo_list.txt')"
   ]
  },
  {
   "cell_type": "code",
   "execution_count": 3,
   "metadata": {},
   "outputs": [
    {
     "name": "stdout",
     "output_type": "stream",
     "text": [
      "Task: Complete assignment, Due Date:  2024-07-25\n"
     ]
    }
   ],
   "source": [
    "def load_tasks(filename):\n",
    "    tasks = []\n",
    "    try:\n",
    "        with open(filename, 'r') as file:\n",
    "            for line in file:\n",
    "                parts = line.strip().split(',')\n",
    "                if len(parts) == 2:\n",
    "                    task = {'name': parts[0], 'due_date': parts[1]}\n",
    "                    tasks.append(task)\n",
    "    except FileNotFoundError:\n",
    "        print(f\"Error: Unable to retrieve the file'{filename}'\")\n",
    "    except IOError as e:\n",
    "        print(f\"Error: Unable to read from the file '{filename}' -{e}\")\n",
    "              \n",
    "        tasks = []\n",
    "    return tasks\n",
    "\n",
    "loaded_tasks = load_tasks('todo_list.txt')\n",
    "for task in loaded_tasks:\n",
    "    print(f\"Task: {task['name']}, Due Date: {task['due_date']}\")"
   ]
  }
 ],
 "metadata": {
  "kernelspec": {
   "display_name": "Python 3",
   "language": "python",
   "name": "python3"
  },
  "language_info": {
   "codemirror_mode": {
    "name": "ipython",
    "version": 3
   },
   "file_extension": ".py",
   "mimetype": "text/x-python",
   "name": "python",
   "nbconvert_exporter": "python",
   "pygments_lexer": "ipython3",
   "version": "3.12.4"
  }
 },
 "nbformat": 4,
 "nbformat_minor": 2
}
